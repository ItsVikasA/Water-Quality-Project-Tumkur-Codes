{
 "cells": [
  {
   "cell_type": "code",
   "execution_count": 2,
   "id": "53ff0017-a5ff-4f26-a213-2adf691ff840",
   "metadata": {},
   "outputs": [],
   "source": [
    "import numpy as np\n",
    "import pandas as pd\n",
    "from sklearn.model_selection import train_test_split, GridSearchCV\n",
    "from sklearn.ensemble import RandomForestClassifier\n",
    "from sklearn.metrics import classification_report, accuracy_score, confusion_matrix, f1_score\n",
    "import matplotlib.pyplot as plt\n",
    "import seaborn as sns\n"
   ]
  },
  {
   "cell_type": "code",
   "execution_count": 3,
   "id": "b33b3b7d-c728-4af2-922c-8267998b25ff",
   "metadata": {},
   "outputs": [],
   "source": [
    "# Load the dataset\n",
    "data = pd.read_csv(r'C:\\Users\\ASUS\\Desktop\\At Tumkur\\water_potability  CE.csv')\n",
    "\n",
    "# Features and target variable\n",
    "X = data[['ph', 'Hardness', 'Solids', 'Conductivity', 'Turbidity']]\n",
    "y = data['Potability']\n"
   ]
  },
  {
   "cell_type": "code",
   "execution_count": 4,
   "id": "bb7fb019-f434-4463-887d-aaf2697af0c3",
   "metadata": {},
   "outputs": [
    {
     "name": "stdout",
     "output_type": "stream",
     "text": [
      "         ph    Hardness       Solids  Conductivity  Turbidity  Potability\n",
      "0       NaN  204.890456  20791.31898    564.308654   2.963135           0\n",
      "1  3.716080  129.422921  18630.05786    592.885359   4.500656           0\n",
      "2  8.099124  224.236259  19909.54173    418.606213   3.055934           0\n",
      "3  8.316766  214.373394  22018.41744    363.266516   4.628771           0\n",
      "4  9.092223  181.101509  17978.98634    398.410813   4.075075           0\n"
     ]
    }
   ],
   "source": [
    "print(data.head())"
   ]
  },
  {
   "cell_type": "code",
   "execution_count": 3,
   "id": "3ffe193b-a622-4eb8-91da-fa19a7a8a6dc",
   "metadata": {},
   "outputs": [],
   "source": [
    "# Handling missing data\n",
    "X = X.fillna(X.mean())"
   ]
  },
  {
   "cell_type": "code",
   "execution_count": 4,
   "id": "50ef84c2-f5f4-4517-a657-dfc5c9f1e28c",
   "metadata": {},
   "outputs": [],
   "source": [
    "# Split the dataset into training and testing sets\n",
    "X_train, X_test, y_train, y_test = train_test_split(X, y, test_size=0.2, random_state=42)"
   ]
  },
  {
   "cell_type": "code",
   "execution_count": 5,
   "id": "0301ff7a-57ca-4d0d-bb57-e1a72c9cd603",
   "metadata": {},
   "outputs": [
    {
     "name": "stdout",
     "output_type": "stream",
     "text": [
      "Fitting 5 folds for each of 36 candidates, totalling 180 fits\n"
     ]
    }
   ],
   "source": [
    "# Initialize Random Forest Classifier\n",
    "rf_classifier = RandomForestClassifier(random_state=42)\n",
    "\n",
    "# Hyperparameter tuning with GridSearchCV\n",
    "param_grid = {\n",
    "    'n_estimators': [50, 100, 200],\n",
    "    'max_depth': [None, 10, 20, 30],\n",
    "    'min_samples_split': [2, 5, 10]\n",
    "}\n",
    "\n",
    "grid_search = GridSearchCV(estimator=rf_classifier, param_grid=param_grid, \n",
    "                           scoring='accuracy', cv=5, verbose=2, n_jobs=-1)\n",
    "grid_search.fit(X_train, y_train)\n",
    "\n",
    "# Best estimator\n",
    "best_rf_classifier = grid_search.best_estimator_\n"
   ]
  },
  {
   "cell_type": "code",
   "execution_count": 6,
   "id": "eba92b68-c6b1-4d6e-b94d-d96a05085d91",
   "metadata": {},
   "outputs": [
    {
     "name": "stdout",
     "output_type": "stream",
     "text": [
      "Accuracy: 61.28%\n",
      "Confusion Matrix:\n",
      " [[369  43]\n",
      " [211  33]]\n",
      "Classification Report:\n",
      "               precision    recall  f1-score   support\n",
      "\n",
      "           0       0.64      0.90      0.74       412\n",
      "           1       0.43      0.14      0.21       244\n",
      "\n",
      "    accuracy                           0.61       656\n",
      "   macro avg       0.54      0.52      0.48       656\n",
      "weighted avg       0.56      0.61      0.54       656\n",
      "\n",
      "F1 Score: 0.21\n"
     ]
    }
   ],
   "source": [
    "# Make predictions\n",
    "y_pred = best_rf_classifier.predict(X_test)\n",
    "\n",
    "# Evaluate the model\n",
    "accuracy = accuracy_score(y_test, y_pred)\n",
    "conf_matrix = confusion_matrix(y_test, y_pred)\n",
    "classification_rep = classification_report(y_test, y_pred)\n",
    "f1 = f1_score(y_test, y_pred)\n",
    "\n",
    "# Print evaluation results\n",
    "print(f\"Accuracy: {accuracy * 100:.2f}%\")\n",
    "print(\"Confusion Matrix:\\n\", conf_matrix)\n",
    "print(\"Classification Report:\\n\", classification_rep)\n",
    "print(f\"F1 Score: {f1:.2f}\")\n"
   ]
  },
  {
   "cell_type": "code",
   "execution_count": 7,
   "id": "3d5f0eab-398b-45b3-b0f1-d5567f180103",
   "metadata": {},
   "outputs": [
    {
     "data": {
      "image/png": "[encoded data removed]",
      "text/plain": [
       "<Figure size 600x400 with 2 Axes>"
      ]
     },
     "metadata": {},
     "output_type": "display_data"
    }
   ],
   "source": [
    "# Plot the confusion matrix\n",
    "plt.figure(figsize=(6, 4))\n",
    "sns.heatmap(conf_matrix, annot=True, fmt='d', cmap='Blues', \n",
    "            xticklabels=['Unsafe', 'Safe'], yticklabels=['Unsafe', 'Safe'])\n",
    "plt.title('Confusion Matrix')\n",
    "plt.xlabel('Predicted Label')\n",
    "plt.ylabel('True Label')\n",
    "plt.show()\n"
   ]
  },
  {
   "cell_type": "code",
   "execution_count": null,
   "id": "0c8de659-e49a-48f4-8e85-7ad39423cf37",
   "metadata": {},
   "outputs": [],
   "source": []
  }
 ],
 "metadata": {
  "kernelspec": {
   "display_name": "Python 3 (ipykernel)",
   "language": "python",
   "name": "python3"
  },
  "language_info": {
   "codemirror_mode": {
    "name": "ipython",
    "version": 3
   },
   "file_extension": ".py",
   "mimetype": "text/x-python",
   "name": "python",
   "nbconvert_exporter": "python",
   "pygments_lexer": "ipython3",
   "version": "3.12.2"
  }
 },
 "nbformat": 4,
 "nbformat_minor": 5
}
